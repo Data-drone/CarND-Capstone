{
 "cells": [
  {
   "cell_type": "markdown",
   "metadata": {},
   "source": [
    "# Build Traffic Light Detection Model"
   ]
  },
  {
   "cell_type": "code",
   "execution_count": 1,
   "metadata": {},
   "outputs": [],
   "source": [
    "import numpy as np\n",
    "import os\n",
    "import six.moves.urllib as urllib\n",
    "import sys\n",
    "import tarfile\n",
    "import tensorflow as tf\n",
    "import zipfile\n",
    "\n",
    "from collections import defaultdict\n",
    "from io import StringIO\n",
    "from matplotlib import pyplot as plt\n",
    "from PIL import Image"
   ]
  },
  {
   "cell_type": "markdown",
   "metadata": {},
   "source": [
    "## Env Setup"
   ]
  },
  {
   "cell_type": "code",
   "execution_count": 2,
   "metadata": {},
   "outputs": [],
   "source": [
    "# This is needed to display the images.\n",
    "%matplotlib inline\n",
    "\n",
    "# This is needed since the notebook is stored in the object_detection folder.\n",
    "sys.path.append(\"..\")"
   ]
  },
  {
   "cell_type": "markdown",
   "metadata": {},
   "source": [
    "# Testing\n"
   ]
  },
  {
   "cell_type": "code",
   "execution_count": 3,
   "metadata": {},
   "outputs": [
    {
     "name": "stdout",
     "output_type": "stream",
     "text": [
      "dataset_additional_rgb.zip   dataset_test_riib.zip.005\n",
      "dataset_additional_riib.zip  dataset_test_riib.zip.006\n",
      "dataset_test_rgb\t     dataset_train_rgb\n",
      "dataset_test_riib.zip.001    dataset_train_riib.zip.001\n",
      "dataset_test_riib.zip.002    dataset_train_riib.zip.002\n",
      "dataset_test_riib.zip.003    dataset_train_riib.zip.003\n",
      "dataset_test_riib.zip.004    dataset_train_riib.zip.004\n"
     ]
    }
   ],
   "source": [
    "!ls ../../../../../external_data/bosch_traffic_light/"
   ]
  },
  {
   "cell_type": "markdown",
   "metadata": {},
   "source": [
    "# Explore Datasets"
   ]
  },
  {
   "cell_type": "code",
   "execution_count": 4,
   "metadata": {},
   "outputs": [],
   "source": [
    "#!python3 /root/work/bstld/bosch_to_pascal.py \\\n",
    "#    /root/work/external_data/bosch_traffic_light/dataset_test_rgb/test.yaml \\\n",
    "#    /root/work/external_data/bosch_traffic_light/dataset_test_rgb/annotations/"
   ]
  },
  {
   "cell_type": "markdown",
   "metadata": {},
   "source": [
    "# Testing Code"
   ]
  },
  {
   "cell_type": "code",
   "execution_count": 5,
   "metadata": {},
   "outputs": [],
   "source": [
    "import logging\n",
    "logger = logging.getLogger()\n",
    "logger.setLevel(logging.DEBUG)"
   ]
  },
  {
   "cell_type": "code",
   "execution_count": 6,
   "metadata": {},
   "outputs": [],
   "source": [
    "#!python3 dataset_tools/create_bosch_tf_record.py \\\n",
    "#    --data_dir=/root/work/external_data/bosch_traffic_light/rgb_train \\\n",
    "#    --output_path=data/pascal.record"
   ]
  },
  {
   "cell_type": "code",
   "execution_count": 9,
   "metadata": {},
   "outputs": [],
   "source": [
    "from dataset_tools.create_bosch_tf_record import generate_data_dict"
   ]
  },
  {
   "cell_type": "code",
   "execution_count": 10,
   "metadata": {},
   "outputs": [],
   "source": [
    "test_path = '/root/work/external_data/bosch_traffic_light/dataset_train_rgb/rgb/train/'"
   ]
  },
  {
   "cell_type": "code",
   "execution_count": 11,
   "metadata": {},
   "outputs": [],
   "source": [
    "dict_result = generate_data_dict(test_path)"
   ]
  },
  {
   "cell_type": "code",
   "execution_count": 12,
   "metadata": {},
   "outputs": [],
   "source": [
    "import os"
   ]
  },
  {
   "cell_type": "code",
   "execution_count": 13,
   "metadata": {},
   "outputs": [
    {
     "data": {
      "text/plain": [
       "<generator object walk at 0x7f5dfc58fa98>"
      ]
     },
     "execution_count": 13,
     "metadata": {},
     "output_type": "execute_result"
    }
   ],
   "source": [
    "test = os.walk(test_path)\n",
    "test"
   ]
  },
  {
   "cell_type": "code",
   "execution_count": 14,
   "metadata": {},
   "outputs": [],
   "source": [
    "test_dict = {}\n",
    "for (dirpath, dirnames, filenames) in os.walk(test_path):\n",
    "    for file in filenames:\n",
    "        test_dict[file] = os.path.join(dirpath, file)"
   ]
  },
  {
   "cell_type": "markdown",
   "metadata": {},
   "source": [
    "# Generating Labels"
   ]
  },
  {
   "cell_type": "code",
   "execution_count": 35,
   "metadata": {},
   "outputs": [],
   "source": [
    "train_data_dir = '/root/work/external_data/bosch_traffic_light/dataset_train_rgb'\n",
    "test_data_dir = '/root/work/external_data/bosch_traffic_light/dataset_test_rgb'"
   ]
  },
  {
   "cell_type": "code",
   "execution_count": 36,
   "metadata": {},
   "outputs": [],
   "source": [
    "annotations_path = os.path.join(test_data_dir, 'annotations') # need check this\n",
    "\n",
    "annotations_list = os.listdir(annotations_path)\n",
    "\n",
    "data_path = os.path.join(data_dir, 'rgb', 'test')\n",
    "data_dict = generate_data_dict(data_path)\n"
   ]
  },
  {
   "cell_type": "code",
   "execution_count": 37,
   "metadata": {},
   "outputs": [],
   "source": [
    "from lxml import etree\n",
    "import PIL.Image\n",
    "from dataset_tools.create_bosch_tf_record import recursive_parse_xml_to_dict"
   ]
  },
  {
   "cell_type": "code",
   "execution_count": 38,
   "metadata": {},
   "outputs": [
    {
     "name": "stderr",
     "output_type": "stream",
     "text": [
      "INFO:root:On image 0 of 8334\n",
      "INFO:root:On image 100 of 8334\n",
      "INFO:root:On image 200 of 8334\n",
      "INFO:root:On image 300 of 8334\n",
      "INFO:root:On image 400 of 8334\n",
      "INFO:root:On image 500 of 8334\n",
      "INFO:root:On image 600 of 8334\n",
      "INFO:root:On image 700 of 8334\n",
      "INFO:root:On image 800 of 8334\n",
      "INFO:root:On image 900 of 8334\n",
      "INFO:root:On image 1000 of 8334\n",
      "INFO:root:On image 1100 of 8334\n",
      "INFO:root:On image 1200 of 8334\n",
      "INFO:root:On image 1300 of 8334\n",
      "INFO:root:On image 1400 of 8334\n",
      "INFO:root:On image 1500 of 8334\n",
      "INFO:root:On image 1600 of 8334\n",
      "INFO:root:On image 1700 of 8334\n",
      "INFO:root:On image 1800 of 8334\n",
      "INFO:root:On image 1900 of 8334\n",
      "INFO:root:On image 2000 of 8334\n",
      "INFO:root:On image 2100 of 8334\n",
      "INFO:root:On image 2200 of 8334\n",
      "INFO:root:On image 2300 of 8334\n",
      "INFO:root:On image 2400 of 8334\n",
      "INFO:root:On image 2500 of 8334\n",
      "INFO:root:On image 2600 of 8334\n",
      "INFO:root:On image 2700 of 8334\n",
      "INFO:root:On image 2800 of 8334\n",
      "INFO:root:On image 2900 of 8334\n",
      "INFO:root:On image 3000 of 8334\n",
      "INFO:root:On image 3100 of 8334\n",
      "INFO:root:On image 3200 of 8334\n",
      "INFO:root:On image 3300 of 8334\n",
      "INFO:root:On image 3400 of 8334\n",
      "INFO:root:On image 3500 of 8334\n",
      "INFO:root:On image 3600 of 8334\n",
      "INFO:root:On image 3700 of 8334\n",
      "INFO:root:On image 3800 of 8334\n",
      "INFO:root:On image 3900 of 8334\n",
      "INFO:root:On image 4000 of 8334\n",
      "INFO:root:On image 4100 of 8334\n",
      "INFO:root:On image 4200 of 8334\n",
      "INFO:root:On image 4300 of 8334\n",
      "INFO:root:On image 4400 of 8334\n",
      "INFO:root:On image 4500 of 8334\n",
      "INFO:root:On image 4600 of 8334\n",
      "INFO:root:On image 4700 of 8334\n",
      "INFO:root:On image 4800 of 8334\n",
      "INFO:root:On image 4900 of 8334\n",
      "INFO:root:On image 5000 of 8334\n",
      "INFO:root:On image 5100 of 8334\n",
      "INFO:root:On image 5200 of 8334\n",
      "INFO:root:On image 5300 of 8334\n",
      "INFO:root:On image 5400 of 8334\n",
      "INFO:root:On image 5500 of 8334\n",
      "INFO:root:On image 5600 of 8334\n",
      "INFO:root:On image 5700 of 8334\n",
      "INFO:root:On image 5800 of 8334\n",
      "INFO:root:On image 5900 of 8334\n",
      "INFO:root:On image 6000 of 8334\n",
      "INFO:root:On image 6100 of 8334\n",
      "INFO:root:On image 6200 of 8334\n",
      "INFO:root:On image 6300 of 8334\n",
      "INFO:root:On image 6400 of 8334\n",
      "INFO:root:On image 6500 of 8334\n",
      "INFO:root:On image 6600 of 8334\n",
      "INFO:root:On image 6700 of 8334\n",
      "INFO:root:On image 6800 of 8334\n",
      "INFO:root:On image 6900 of 8334\n",
      "INFO:root:On image 7000 of 8334\n",
      "INFO:root:On image 7100 of 8334\n",
      "INFO:root:On image 7200 of 8334\n",
      "INFO:root:On image 7300 of 8334\n",
      "INFO:root:On image 7400 of 8334\n",
      "INFO:root:On image 7500 of 8334\n",
      "INFO:root:On image 7600 of 8334\n",
      "INFO:root:On image 7700 of 8334\n",
      "INFO:root:On image 7800 of 8334\n",
      "INFO:root:On image 7900 of 8334\n",
      "INFO:root:On image 8000 of 8334\n",
      "INFO:root:On image 8100 of 8334\n",
      "INFO:root:On image 8200 of 8334\n",
      "INFO:root:On image 8300 of 8334\n"
     ]
    }
   ],
   "source": [
    "categories = {}\n",
    "\n",
    "for idx, _file in enumerate(annotations_list):\n",
    "    if idx % 100 == 0:\n",
    "        logging.info('On image {0} of {1}'.format(idx, len(annotations_list)))\n",
    "\n",
    "        #print('{0}'.format(_file))\n",
    "    path = os.path.join(annotations_path, _file)\n",
    "    with tf.gfile.GFile(path, 'r') as fid:\n",
    "        xml_str = fid.read()\n",
    "    xml = etree.fromstring(xml_str)\n",
    "    \n",
    "    data = recursive_parse_xml_to_dict(xml)['annotaion']\n",
    "    \n",
    "    if 'object' in data.keys():\n",
    "        for obj in data['object']:\n",
    "            if obj['name'] not in categories.keys():\n",
    "                categories[obj['name']] = 1\n",
    "            else:\n",
    "                categories[obj['name']] += 1"
   ]
  },
  {
   "cell_type": "code",
   "execution_count": 39,
   "metadata": {},
   "outputs": [
    {
     "data": {
      "text/plain": [
       "dict_keys(['off', 'Green', 'Red', 'Yellow'])"
      ]
     },
     "execution_count": 39,
     "metadata": {},
     "output_type": "execute_result"
    }
   ],
   "source": [
    "categories.keys()"
   ]
  },
  {
   "cell_type": "markdown",
   "metadata": {},
   "source": [
    "The Test set only has green red and yellow"
   ]
  },
  {
   "cell_type": "code",
   "execution_count": 27,
   "metadata": {},
   "outputs": [
    {
     "data": {
      "text/plain": [
       "{'filename': '504644.png',\n",
       " 'folder': '../external_data/bosch_traffic_light/dataset_train_rgb/annotations/',\n",
       " 'segmented': '0',\n",
       " 'size': {'depth': '3', 'height': '720', 'width': '1280'}}"
      ]
     },
     "execution_count": 27,
     "metadata": {},
     "output_type": "execute_result"
    }
   ],
   "source": [
    "data"
   ]
  }
 ],
 "metadata": {
  "kernelspec": {
   "display_name": "Python 3",
   "language": "python",
   "name": "python3"
  },
  "language_info": {
   "codemirror_mode": {
    "name": "ipython",
    "version": 3
   },
   "file_extension": ".py",
   "mimetype": "text/x-python",
   "name": "python",
   "nbconvert_exporter": "python",
   "pygments_lexer": "ipython3",
   "version": "3.5.2"
  }
 },
 "nbformat": 4,
 "nbformat_minor": 4
}
